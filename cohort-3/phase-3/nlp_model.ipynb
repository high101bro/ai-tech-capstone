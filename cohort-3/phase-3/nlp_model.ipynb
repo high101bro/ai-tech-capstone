{
 "cells": [
  {
   "cell_type": "code",
   "execution_count": 1,
   "id": "2ef90348",
   "metadata": {},
   "outputs": [],
   "source": [
    "from vaderSentiment.vaderSentiment import SentimentIntensityAnalyzer"
   ]
  },
  {
   "cell_type": "code",
   "execution_count": 2,
   "id": "f0f68bba",
   "metadata": {},
   "outputs": [],
   "source": [
    "model = SentimentIntensityAnalyzer()"
   ]
  },
  {
   "cell_type": "code",
   "execution_count": 3,
   "id": "171c4086",
   "metadata": {},
   "outputs": [],
   "source": [
    "def predict(model, string):\n",
    "    return model.polarity_scores(string)"
   ]
  },
  {
   "cell_type": "code",
   "execution_count": 4,
   "id": "874d2a63",
   "metadata": {},
   "outputs": [
    {
     "name": "stdout",
     "output_type": "stream",
     "text": [
      "{'neg': 0.0, 'neu': 0.612, 'pos': 0.388, 'compound': 0.2263}\n"
     ]
    }
   ],
   "source": [
    "test = 'The movie was okay'\n",
    "print(predict(model, test))"
   ]
  },
  {
   "cell_type": "code",
   "execution_count": null,
   "id": "4605261b",
   "metadata": {},
   "outputs": [],
   "source": []
  }
 ],
 "metadata": {
  "kernelspec": {
   "display_name": "Python 3 (ipykernel)",
   "language": "python",
   "name": "python3"
  },
  "language_info": {
   "codemirror_mode": {
    "name": "ipython",
    "version": 3
   },
   "file_extension": ".py",
   "mimetype": "text/x-python",
   "name": "python",
   "nbconvert_exporter": "python",
   "pygments_lexer": "ipython3",
   "version": "3.11.3"
  }
 },
 "nbformat": 4,
 "nbformat_minor": 5
}
